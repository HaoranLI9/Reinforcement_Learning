{
 "cells": [
  {
   "cell_type": "code",
   "execution_count": 1,
   "id": "73bd4501",
   "metadata": {},
   "outputs": [],
   "source": [
    "import pandas as pd\n",
    "import numpy as np\n",
    "import matplotlib.pyplot as plt"
   ]
  },
  {
   "cell_type": "markdown",
   "id": "3f70f012",
   "metadata": {},
   "source": [
    "### Chargement des données"
   ]
  },
  {
   "cell_type": "code",
   "execution_count": 2,
   "id": "514f589b",
   "metadata": {},
   "outputs": [],
   "source": [
    "df = pd.read_csv('./CTR.csv', sep= ':', header=None, names=['index', 'representation','annonceur'])"
   ]
  },
  {
   "cell_type": "code",
   "execution_count": 3,
   "id": "aea2c331",
   "metadata": {},
   "outputs": [
    {
     "data": {
      "text/html": [
       "<div>\n",
       "<style scoped>\n",
       "    .dataframe tbody tr th:only-of-type {\n",
       "        vertical-align: middle;\n",
       "    }\n",
       "\n",
       "    .dataframe tbody tr th {\n",
       "        vertical-align: top;\n",
       "    }\n",
       "\n",
       "    .dataframe thead th {\n",
       "        text-align: right;\n",
       "    }\n",
       "</style>\n",
       "<table border=\"1\" class=\"dataframe\">\n",
       "  <thead>\n",
       "    <tr style=\"text-align: right;\">\n",
       "      <th></th>\n",
       "      <th>index</th>\n",
       "      <th>representation</th>\n",
       "      <th>annonceur</th>\n",
       "    </tr>\n",
       "  </thead>\n",
       "  <tbody>\n",
       "    <tr>\n",
       "      <th>0</th>\n",
       "      <td>0</td>\n",
       "      <td>0.74837091377052;0.8352077827766918;0.07669895...</td>\n",
       "      <td>0.10341905704918021;0.19069778281037159;0.0;0....</td>\n",
       "    </tr>\n",
       "    <tr>\n",
       "      <th>1</th>\n",
       "      <td>1</td>\n",
       "      <td>0.16841851887985582;0.1337544632704264;0.43486...</td>\n",
       "      <td>0.0;0.0;0.0;0.020827097947315257;0.0;0.0;0.022...</td>\n",
       "    </tr>\n",
       "    <tr>\n",
       "      <th>2</th>\n",
       "      <td>2</td>\n",
       "      <td>0.4852873193263283;0.5669886866963504;0.041657...</td>\n",
       "      <td>0.10957461446818696;0.13662644655693568;0.0;0....</td>\n",
       "    </tr>\n",
       "    <tr>\n",
       "      <th>3</th>\n",
       "      <td>3</td>\n",
       "      <td>0.6222307845696199;0.1961234321879859;0.131146...</td>\n",
       "      <td>0.0;0.1510688622593973;0.0;0.12723939195229092...</td>\n",
       "    </tr>\n",
       "    <tr>\n",
       "      <th>4</th>\n",
       "      <td>4</td>\n",
       "      <td>0.3317104123038488;0.08641097481469784;0.02303...</td>\n",
       "      <td>0.0;0.10921436423915529;0.0;0.1519378203628299...</td>\n",
       "    </tr>\n",
       "  </tbody>\n",
       "</table>\n",
       "</div>"
      ],
      "text/plain": [
       "   index                                     representation  \\\n",
       "0      0  0.74837091377052;0.8352077827766918;0.07669895...   \n",
       "1      1  0.16841851887985582;0.1337544632704264;0.43486...   \n",
       "2      2  0.4852873193263283;0.5669886866963504;0.041657...   \n",
       "3      3  0.6222307845696199;0.1961234321879859;0.131146...   \n",
       "4      4  0.3317104123038488;0.08641097481469784;0.02303...   \n",
       "\n",
       "                                           annonceur  \n",
       "0  0.10341905704918021;0.19069778281037159;0.0;0....  \n",
       "1  0.0;0.0;0.0;0.020827097947315257;0.0;0.0;0.022...  \n",
       "2  0.10957461446818696;0.13662644655693568;0.0;0....  \n",
       "3  0.0;0.1510688622593973;0.0;0.12723939195229092...  \n",
       "4  0.0;0.10921436423915529;0.0;0.1519378203628299...  "
      ]
     },
     "execution_count": 3,
     "metadata": {},
     "output_type": "execute_result"
    }
   ],
   "source": [
    "df.head()"
   ]
  },
  {
   "cell_type": "code",
   "execution_count": 4,
   "id": "98fb78c2",
   "metadata": {},
   "outputs": [
    {
     "data": {
      "text/plain": [
       "(5000, 3)"
      ]
     },
     "execution_count": 4,
     "metadata": {},
     "output_type": "execute_result"
    }
   ],
   "source": [
    "df.shape"
   ]
  },
  {
   "cell_type": "code",
   "execution_count": 5,
   "id": "1e092dec",
   "metadata": {},
   "outputs": [],
   "source": [
    "a = list(map(lambda x : x.split(';'), df['annonceur']))\n",
    "a = np.array(a).astype(np.float64)"
   ]
  },
  {
   "cell_type": "markdown",
   "id": "8879000b",
   "metadata": {},
   "source": [
    "## Baseline"
   ]
  },
  {
   "cell_type": "code",
   "execution_count": 6,
   "id": "1bfd911f",
   "metadata": {},
   "outputs": [],
   "source": [
    "class Agent:\n",
    "    def __init__(self, nb_bras, dim):\n",
    "        self.nb_bras = nb_bras\n",
    "        self.dim = dim\n",
    "        self.times = np.array([0]* nb_bras)\n",
    "        self.rewards = np.array([0.0]*nb_bras)\n",
    "    def choice(self, ctx=None):\n",
    "        return\n",
    "    def update(self, action, reward):\n",
    "        return"
   ]
  },
  {
   "cell_type": "markdown",
   "id": "eec332a4",
   "metadata": {},
   "source": [
    "### Stratégie Random"
   ]
  },
  {
   "cell_type": "code",
   "execution_count": 7,
   "id": "f11b6b85",
   "metadata": {},
   "outputs": [],
   "source": [
    "class AgentRandom(Agent):\n",
    "    def __init__(self, nb_bras,dim):\n",
    "        super().__init__(nb_bras,dim)\n",
    "    def choice(self, ctx =None):\n",
    "        return np.random.randint(10)\n",
    "    def update(self, action, reward):\n",
    "        idx = np.random.randint(self.nb_bras)\n",
    "        self.times[idx]+=1\n",
    "        self.rewards[action] += reward\n",
    "        return idx"
   ]
  },
  {
   "cell_type": "code",
   "execution_count": 8,
   "id": "6aac1c0e",
   "metadata": {},
   "outputs": [
    {
     "name": "stdout",
     "output_type": "stream",
     "text": [
      "[508 502 518 515 470 472 507 477 526 505]\n",
      "[  8.55843743  40.99322461   4.64267864 134.21114054  15.71351481\n",
      "   0.78084079  45.33619543  15.58834636   4.23831644 131.23958402]\n"
     ]
    }
   ],
   "source": [
    "a1 = AgentRandom(10,5)\n",
    "for i in range(5000):\n",
    "    idx = a1.choice()\n",
    "    a1.update(idx, a[i][idx])\n",
    "print(a1.times)\n",
    "print(a1.rewards)"
   ]
  },
  {
   "cell_type": "markdown",
   "id": "b165f028",
   "metadata": {},
   "source": [
    "### Stratégie StaticBest"
   ]
  },
  {
   "cell_type": "code",
   "execution_count": 9,
   "id": "e6502f26",
   "metadata": {},
   "outputs": [],
   "source": [
    "class  AgentStaticBest(Agent):\n",
    "    def __init__(self, nb_bras, dim):\n",
    "        super().__init__(nb_bras,dim)\n",
    "    def choice(self, ctx =None):\n",
    "        times = self.times.sum()\n",
    "        if times<100:\n",
    "            index = times // 10\n",
    "            \n",
    "            return index\n",
    "        else:\n",
    "            return np.argmax(self.rewards/self.times)\n",
    "    def update(self, action, reward):\n",
    "        #print(reward)\n",
    "        self.times[action]+=1\n",
    "        self.rewards[action] += reward\n",
    "        #print(self.rewards)"
   ]
  },
  {
   "cell_type": "code",
   "execution_count": 10,
   "id": "149e84b8",
   "metadata": {},
   "outputs": [
    {
     "name": "stdout",
     "output_type": "stream",
     "text": [
      "[  10   10   10 4910   10   10   10   10   10   10]\n",
      "[4.28381994e-01 7.46241035e-01 1.10380968e-01 1.31654383e+03\n",
      " 1.16234281e-01 0.00000000e+00 1.30824058e+00 4.52357161e-01\n",
      " 3.89380677e-02 2.38202243e+00]\n"
     ]
    }
   ],
   "source": [
    "a2 = AgentStaticBest(10,5)\n",
    "for i in range(5000):\n",
    "    idx = a2.choice()\n",
    "    a2.update(idx, a[i][idx])\n",
    "print(a2.times)\n",
    "print(a2.rewards)"
   ]
  },
  {
   "cell_type": "markdown",
   "id": "5033fa2c",
   "metadata": {},
   "source": [
    "### Stratégie Optimale"
   ]
  },
  {
   "cell_type": "code",
   "execution_count": 11,
   "id": "a87f1f6f",
   "metadata": {},
   "outputs": [],
   "source": [
    "optimal = a.argmax(axis=1)"
   ]
  },
  {
   "cell_type": "code",
   "execution_count": 12,
   "id": "65093c2b",
   "metadata": {},
   "outputs": [],
   "source": [
    "class Agentoptimal(Agent):\n",
    "    def __init__(self, nb_bras, dim):\n",
    "        super().__init__(nb_bras, dim)\n",
    "    def choice(self, ctx = None):\n",
    "        return optimal[i]\n",
    "    def update(self, action, reward):\n",
    "        self.times[action]+=1\n",
    "        self.rewards[action] += reward"
   ]
  },
  {
   "cell_type": "code",
   "execution_count": 13,
   "id": "fae8df35",
   "metadata": {},
   "outputs": [
    {
     "name": "stdout",
     "output_type": "stream",
     "text": [
      "[   7  146    1 2681   13    0  243    6    0 1903]\n",
      "[1.27436352e+00 3.15482431e+01 2.05103396e-01 8.72934461e+02\n",
      " 2.04748753e+00 0.00000000e+00 6.55797526e+01 1.19821485e+00\n",
      " 0.00000000e+00 5.57215610e+02]\n"
     ]
    }
   ],
   "source": [
    "a3 = Agentoptimal(10,5)\n",
    "for i in range(5000):\n",
    "    idx = a3.choice()\n",
    "    a3.update(idx, a[i][idx])\n",
    "print(a3.times)\n",
    "print(a3.rewards)"
   ]
  },
  {
   "cell_type": "markdown",
   "id": "a8d6e926",
   "metadata": {},
   "source": [
    "## UCB"
   ]
  },
  {
   "cell_type": "code",
   "execution_count": 14,
   "id": "653af0f6",
   "metadata": {},
   "outputs": [],
   "source": [
    "class AgentUCB(Agent):\n",
    "    def __init__(self, nb_bras, dim):\n",
    "        super().__init__(nb_bras, dim)\n",
    "        self.idx = 0\n",
    "        self.max_upper_bound = 0\n",
    "    def choice(self, ctx = None):\n",
    "        s = self.times.sum()\n",
    "        if s<10:\n",
    "            index = s\n",
    "            return index\n",
    "        for k in range(10):\n",
    "            if self.times[k]>0:\n",
    "                average_reward = self.rewards[k]/self.times[k]\n",
    "                delta = np.sqrt(2*np.log10(i)/self.times[k])\n",
    "                upper_bound = average_reward + delta\n",
    "            else:\n",
    "                upper_bound = 1e500\n",
    "            if upper_bound > self.max_upper_bound:\n",
    "                self.max_upper_bound = upper_bound\n",
    "                self.idx = k\n",
    "        return self.idx\n",
    "            \n",
    "    def update(self, action, reward):\n",
    "        self.times[action]+=1\n",
    "        self.rewards[action] += reward"
   ]
  },
  {
   "cell_type": "code",
   "execution_count": 15,
   "id": "636d4e9b",
   "metadata": {},
   "outputs": [
    {
     "name": "stdout",
     "output_type": "stream",
     "text": [
      "[   5  215    3 3350    6    3    4  809  133  472]\n",
      "[1.43129681e-01 1.63207644e+01 0.00000000e+00 8.99155409e+02\n",
      " 3.27505792e-01 0.00000000e+00 1.94630537e-01 2.72421641e+01\n",
      " 3.86983769e-01 1.16946581e+02]\n"
     ]
    }
   ],
   "source": [
    "a4 = AgentUCB(10,5)\n",
    "\n",
    "for i in range(5000):\n",
    "    idx = a4.choice()\n",
    "    a4.update(idx, a[i][idx])\n",
    "print(a4.times)\n",
    "print(a4.rewards)"
   ]
  },
  {
   "cell_type": "markdown",
   "id": "28fac73b",
   "metadata": {},
   "source": [
    "## LinUCB"
   ]
  },
  {
   "cell_type": "code",
   "execution_count": 16,
   "id": "83a0886a",
   "metadata": {},
   "outputs": [],
   "source": [
    "ctx = list(map(lambda x : x.split(';'), df['representation']))\n",
    "ctx = np.array(ctx).astype(np.float64)"
   ]
  },
  {
   "cell_type": "code",
   "execution_count": 17,
   "id": "33fecbd6",
   "metadata": {},
   "outputs": [
    {
     "data": {
      "text/plain": [
       "(5000, 5)"
      ]
     },
     "execution_count": 17,
     "metadata": {},
     "output_type": "execute_result"
    }
   ],
   "source": [
    "ctx.shape"
   ]
  },
  {
   "cell_type": "code",
   "execution_count": 18,
   "id": "102ba510",
   "metadata": {},
   "outputs": [],
   "source": [
    "class AgentLinUCB(Agent):\n",
    "    def __init__(self, nb_bras, dim):\n",
    "        super().__init__(nb_bras, dim)\n",
    "        self.alpha = 0.25\n",
    "        self.Aa = {}\n",
    "        self.ba = {}\n",
    "        self.theta = {}\n",
    "        self.ctx = None\n",
    "        \n",
    "    def choice(self, ctx = None):\n",
    "        p = np.zeros(self.nb_bras)\n",
    "        self.ctx = ctx\n",
    "        for k in range(self.nb_bras):\n",
    "            #print(self.Aa.keys())\n",
    "            if k not in self.Aa.keys():\n",
    "                self.Aa[k] = np.identity(self.dim)\n",
    "                self.ba[k] = np.zeros((self.dim,1))\n",
    "            self.theta[k] = np.dot(np.linalg.inv(self.Aa[k]), self.ba[k])\n",
    "            p[k] = self.theta[k].T@ ctx[i] + self.alpha * np.sqrt(ctx[i].T @ np.linalg.inv(self.Aa[k]) @ ctx[i])\n",
    "        return np.argmax(p)\n",
    "    def update(self, action, reward):\n",
    "        self.Aa[action] += np.dot(self.ctx[i],self.ctx[i].T)\n",
    "        self.ba[action] += reward * self.ctx[i].reshape(5,1)\n",
    "        self.times[action]+=1\n",
    "        self.rewards[action] += reward"
   ]
  },
  {
   "cell_type": "code",
   "execution_count": 19,
   "id": "c4ce506d",
   "metadata": {
    "scrolled": false
   },
   "outputs": [
    {
     "name": "stdout",
     "output_type": "stream",
     "text": [
      "[   8    2    2 2191   52    2  654    5    2 2082]\n",
      "[1.22581751e-01 0.00000000e+00 0.00000000e+00 6.38115428e+02\n",
      " 1.95993327e+00 0.00000000e+00 7.92637545e+01 6.97578580e-02\n",
      " 0.00000000e+00 5.62572528e+02]\n"
     ]
    }
   ],
   "source": [
    "a5 = AgentLinUCB(10,5)\n",
    "for i in range(5000):\n",
    "    idx = a5.choice(ctx)\n",
    "    a5.update(idx, a[i][idx])\n",
    "print(a5.times)\n",
    "print(a5.rewards)"
   ]
  },
  {
   "cell_type": "code",
   "execution_count": 20,
   "id": "a6c540ae",
   "metadata": {},
   "outputs": [],
   "source": [
    "barr = []\n",
    "barr.append(sum(a1.rewards))\n",
    "barr.append(sum(a2.rewards))\n",
    "barr.append(sum(a3.rewards))\n",
    "barr.append(sum(a4.rewards))\n",
    "barr.append(sum(a5.rewards))"
   ]
  },
  {
   "cell_type": "code",
   "execution_count": 21,
   "id": "cf6a0cbd",
   "metadata": {},
   "outputs": [
    {
     "data": {
      "text/plain": [
       "<BarContainer object of 5 artists>"
      ]
     },
     "execution_count": 21,
     "metadata": {},
     "output_type": "execute_result"
    },
    {
     "data": {
      "image/png": "[encoded data removed]",
      "text/plain": [
       "<Figure size 432x288 with 1 Axes>"
      ]
     },
     "metadata": {
      "needs_background": "light"
     },
     "output_type": "display_data"
    }
   ],
   "source": [
    "plt.bar(['random','staticbest', 'optimal', 'UCB', 'LinUCB'],barr)"
   ]
  },
  {
   "cell_type": "code",
   "execution_count": null,
   "id": "c4c98f41",
   "metadata": {},
   "outputs": [],
   "source": []
  },
  {
   "cell_type": "code",
   "execution_count": null,
   "id": "335f2daa",
   "metadata": {},
   "outputs": [],
   "source": []
  }
 ],
 "metadata": {
  "kernelspec": {
   "display_name": "Python 3",
   "language": "python",
   "name": "python3"
  },
  "language_info": {
   "codemirror_mode": {
    "name": "ipython",
    "version": 3
   },
   "file_extension": ".py",
   "mimetype": "text/x-python",
   "name": "python",
   "nbconvert_exporter": "python",
   "pygments_lexer": "ipython3",
   "version": "3.8.8"
  }
 },
 "nbformat": 4,
 "nbformat_minor": 5
}

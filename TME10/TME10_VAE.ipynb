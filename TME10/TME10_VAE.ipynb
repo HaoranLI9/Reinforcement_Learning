{
 "cells": [
  {
   "cell_type": "code",
   "execution_count": 106,
   "id": "freelance-oliver",
   "metadata": {},
   "outputs": [],
   "source": [
    "import torch\n",
    "import torch.nn as nn\n",
    "from torch.distributions.normal import Normal\n",
    "from torch.utils.data import DataLoader\n",
    "from torchvision import datasets, transforms\n",
    "from torch.utils.tensorboard import SummaryWriter\n",
    "import matplotlib.pyplot as plt"
   ]
  },
  {
   "cell_type": "code",
   "execution_count": 132,
   "id": "subjective-stanford",
   "metadata": {},
   "outputs": [
    {
     "data": {
      "text/plain": [
       "<function torch.cuda.is_available() -> bool>"
      ]
     },
     "execution_count": 132,
     "metadata": {},
     "output_type": "execute_result"
    }
   ],
   "source": [
    "torch.cuda.is_available"
   ]
  },
  {
   "cell_type": "code",
   "execution_count": 134,
   "id": "behind-exhibition",
   "metadata": {},
   "outputs": [],
   "source": [
    "device = torch.device('cuda' if torch.cuda.is_available() else 'cpu')"
   ]
  },
  {
   "cell_type": "code",
   "execution_count": 33,
   "id": "automatic-paste",
   "metadata": {},
   "outputs": [],
   "source": [
    "transform = transforms.Compose([\n",
    "    transforms.Grayscale(),\n",
    "    transforms.ToTensor()\n",
    "])"
   ]
  },
  {
   "cell_type": "code",
   "execution_count": 65,
   "id": "academic-bullet",
   "metadata": {},
   "outputs": [
    {
     "name": "stdout",
     "output_type": "stream",
     "text": [
      "Downloading http://yann.lecun.com/exdb/mnist/train-images-idx3-ubyte.gz\n",
      "Downloading http://yann.lecun.com/exdb/mnist/train-images-idx3-ubyte.gz to ./data/train/MNIST/raw/train-images-idx3-ubyte.gz\n"
     ]
    },
    {
     "data": {
      "application/vnd.jupyter.widget-view+json": {
       "model_id": "d39b55e91e3a4f66bc8f3284c23a9fb9",
       "version_major": 2,
       "version_minor": 0
      },
      "text/plain": [
       "  0%|          | 0/9912422 [00:00<?, ?it/s]"
      ]
     },
     "metadata": {},
     "output_type": "display_data"
    },
    {
     "name": "stdout",
     "output_type": "stream",
     "text": [
      "Extracting ./data/train/MNIST/raw/train-images-idx3-ubyte.gz to ./data/train/MNIST/raw\n",
      "\n",
      "Downloading http://yann.lecun.com/exdb/mnist/train-labels-idx1-ubyte.gz\n",
      "Downloading http://yann.lecun.com/exdb/mnist/train-labels-idx1-ubyte.gz to ./data/train/MNIST/raw/train-labels-idx1-ubyte.gz\n"
     ]
    },
    {
     "data": {
      "application/vnd.jupyter.widget-view+json": {
       "model_id": "783440f5475c433f9cf5258a39b34045",
       "version_major": 2,
       "version_minor": 0
      },
      "text/plain": [
       "  0%|          | 0/28881 [00:00<?, ?it/s]"
      ]
     },
     "metadata": {},
     "output_type": "display_data"
    },
    {
     "name": "stdout",
     "output_type": "stream",
     "text": [
      "Extracting ./data/train/MNIST/raw/train-labels-idx1-ubyte.gz to ./data/train/MNIST/raw\n",
      "\n",
      "Downloading http://yann.lecun.com/exdb/mnist/t10k-images-idx3-ubyte.gz\n",
      "Downloading http://yann.lecun.com/exdb/mnist/t10k-images-idx3-ubyte.gz to ./data/train/MNIST/raw/t10k-images-idx3-ubyte.gz\n"
     ]
    },
    {
     "data": {
      "application/vnd.jupyter.widget-view+json": {
       "model_id": "c39c3378bf4b4ece9ada033be273022b",
       "version_major": 2,
       "version_minor": 0
      },
      "text/plain": [
       "  0%|          | 0/1648877 [00:00<?, ?it/s]"
      ]
     },
     "metadata": {},
     "output_type": "display_data"
    },
    {
     "name": "stdout",
     "output_type": "stream",
     "text": [
      "Extracting ./data/train/MNIST/raw/t10k-images-idx3-ubyte.gz to ./data/train/MNIST/raw\n",
      "\n",
      "Downloading http://yann.lecun.com/exdb/mnist/t10k-labels-idx1-ubyte.gz\n",
      "Downloading http://yann.lecun.com/exdb/mnist/t10k-labels-idx1-ubyte.gz to ./data/train/MNIST/raw/t10k-labels-idx1-ubyte.gz\n"
     ]
    },
    {
     "data": {
      "application/vnd.jupyter.widget-view+json": {
       "model_id": "29b28722f4fe41e684f7d061879c3efa",
       "version_major": 2,
       "version_minor": 0
      },
      "text/plain": [
       "  0%|          | 0/4542 [00:00<?, ?it/s]"
      ]
     },
     "metadata": {},
     "output_type": "display_data"
    },
    {
     "name": "stdout",
     "output_type": "stream",
     "text": [
      "Extracting ./data/train/MNIST/raw/t10k-labels-idx1-ubyte.gz to ./data/train/MNIST/raw\n",
      "\n",
      "Downloading http://yann.lecun.com/exdb/mnist/train-images-idx3-ubyte.gz\n",
      "Downloading http://yann.lecun.com/exdb/mnist/train-images-idx3-ubyte.gz to ./data/test/MNIST/raw/train-images-idx3-ubyte.gz\n"
     ]
    },
    {
     "data": {
      "application/vnd.jupyter.widget-view+json": {
       "model_id": "096c472e5d534b7185ff54e5d6eaa82c",
       "version_major": 2,
       "version_minor": 0
      },
      "text/plain": [
       "  0%|          | 0/9912422 [00:00<?, ?it/s]"
      ]
     },
     "metadata": {},
     "output_type": "display_data"
    },
    {
     "name": "stdout",
     "output_type": "stream",
     "text": [
      "Extracting ./data/test/MNIST/raw/train-images-idx3-ubyte.gz to ./data/test/MNIST/raw\n",
      "\n",
      "Downloading http://yann.lecun.com/exdb/mnist/train-labels-idx1-ubyte.gz\n",
      "Downloading http://yann.lecun.com/exdb/mnist/train-labels-idx1-ubyte.gz to ./data/test/MNIST/raw/train-labels-idx1-ubyte.gz\n"
     ]
    },
    {
     "data": {
      "application/vnd.jupyter.widget-view+json": {
       "model_id": "c0b2a0bd3328457d9ef17b9dabf6a6d5",
       "version_major": 2,
       "version_minor": 0
      },
      "text/plain": [
       "  0%|          | 0/28881 [00:00<?, ?it/s]"
      ]
     },
     "metadata": {},
     "output_type": "display_data"
    },
    {
     "name": "stdout",
     "output_type": "stream",
     "text": [
      "Extracting ./data/test/MNIST/raw/train-labels-idx1-ubyte.gz to ./data/test/MNIST/raw\n",
      "\n",
      "Downloading http://yann.lecun.com/exdb/mnist/t10k-images-idx3-ubyte.gz\n",
      "Downloading http://yann.lecun.com/exdb/mnist/t10k-images-idx3-ubyte.gz to ./data/test/MNIST/raw/t10k-images-idx3-ubyte.gz\n"
     ]
    },
    {
     "data": {
      "application/vnd.jupyter.widget-view+json": {
       "model_id": "c44d26bf5b764c0bba93ca359c005154",
       "version_major": 2,
       "version_minor": 0
      },
      "text/plain": [
       "  0%|          | 0/1648877 [00:00<?, ?it/s]"
      ]
     },
     "metadata": {},
     "output_type": "display_data"
    },
    {
     "name": "stdout",
     "output_type": "stream",
     "text": [
      "Extracting ./data/test/MNIST/raw/t10k-images-idx3-ubyte.gz to ./data/test/MNIST/raw\n",
      "\n",
      "Downloading http://yann.lecun.com/exdb/mnist/t10k-labels-idx1-ubyte.gz\n",
      "Downloading http://yann.lecun.com/exdb/mnist/t10k-labels-idx1-ubyte.gz to ./data/test/MNIST/raw/t10k-labels-idx1-ubyte.gz\n"
     ]
    },
    {
     "data": {
      "application/vnd.jupyter.widget-view+json": {
       "model_id": "28f0e0a2204e406b989f1f5b2b0a6418",
       "version_major": 2,
       "version_minor": 0
      },
      "text/plain": [
       "  0%|          | 0/4542 [00:00<?, ?it/s]"
      ]
     },
     "metadata": {},
     "output_type": "display_data"
    },
    {
     "name": "stdout",
     "output_type": "stream",
     "text": [
      "Extracting ./data/test/MNIST/raw/t10k-labels-idx1-ubyte.gz to ./data/test/MNIST/raw\n",
      "\n"
     ]
    }
   ],
   "source": [
    "data_train = datasets.MNIST(root='./data/train', transform=transform, download=True)\n",
    "data_test = datasets.MNIST(root='./data/test', transform=transform, train=False, download=True)"
   ]
  },
  {
   "cell_type": "code",
   "execution_count": 35,
   "id": "pacific-disability",
   "metadata": {},
   "outputs": [
    {
     "name": "stdout",
     "output_type": "stream",
     "text": [
      "True\n"
     ]
    }
   ],
   "source": [
    "print(data.train)"
   ]
  },
  {
   "cell_type": "code",
   "execution_count": 66,
   "id": "academic-bangkok",
   "metadata": {},
   "outputs": [
    {
     "name": "stdout",
     "output_type": "stream",
     "text": [
      "5 7\n"
     ]
    }
   ],
   "source": [
    "img0, label0 = data_train[0]\n",
    "img1, label1 = data_test[0]\n",
    "\n",
    "print(label0, label1)"
   ]
  },
  {
   "cell_type": "code",
   "execution_count": 126,
   "id": "subsequent-undergraduate",
   "metadata": {},
   "outputs": [],
   "source": [
    "class Encodeur(nn.Module):\n",
    "    def __init__(self, input_size, hidden_size, latent_size):\n",
    "        super(Encodeur, self).__init__()\n",
    "        self.latent_size = latent_size\n",
    "        self.model = nn.Sequential(\n",
    "            nn.Linear(input_size, hidden_size),\n",
    "            nn.ReLU(),\n",
    "            nn.Linear(hidden_size, 2*latent_size)\n",
    "        )\n",
    "    \n",
    "    def forward(self, image):\n",
    "        batch = image.size(0)\n",
    "        image = image.view(batch, -1)\n",
    "        latent_vecteur = self.model(image)\n",
    "        mu = latent_vecteur[:, :self.latent_size]\n",
    "        covariance = latent_vecteur[:, self.latent_size:]\n",
    "        \n",
    "        return mu, covariance, \n",
    "\n",
    "\n",
    "class Decodeur(nn.Module):\n",
    "    def __init__(self, output_size, hidden_size, latent_size):\n",
    "        super(Decodeur, self).__init__()\n",
    "        self.model = nn.Sequential(\n",
    "            nn.Linear(latent_size, hidden_size),\n",
    "            nn.ReLU(),\n",
    "            nn.Linear(hidden_size, output_size),\n",
    "            nn.Sigmoid()\n",
    "        )\n",
    "    \n",
    "    def forward(self, mu, covariance):\n",
    "        \"\"\"\n",
    "        output : batch_size * (28*28)\n",
    "        \"\"\"\n",
    "        z = Normal(mu, torch.exp(covariance))\n",
    "        latent_vecteur = z.sample()\n",
    "        \n",
    "        return self.model(latent_vecteur)\n",
    "\n",
    "class VAE(nn.Module):\n",
    "    def __init__(self, input_size, hidden_size, latent_size):\n",
    "        super(VAE, self).__init__()\n",
    "        self.encodeur = Encodeur(input_size, hidden_size, latent_size)\n",
    "        self.decodeur = Decodeur(input_size, hidden_size, latent_size)\n",
    "    \n",
    "    def forward(self, image):\n",
    "        mu, covariance = self.encodeur(image)\n",
    "        res = self.decodeur(mu, covariance)\n",
    "        \n",
    "        return mu, covariance, res"
   ]
  },
  {
   "cell_type": "code",
   "execution_count": null,
   "id": "liquid-novelty",
   "metadata": {},
   "outputs": [
    {
     "name": "stdout",
     "output_type": "stream",
     "text": [
      "189.4261498749256\n",
      "44.645963579416275\n",
      "35.22678515315056\n",
      "32.47794723510742\n",
      "31.752962678670883\n",
      "31.4384223818779\n",
      "31.256068259477615\n",
      "31.128083169460297\n",
      "31.055584996938705\n",
      "30.992048233747482\n",
      "30.94728535413742\n",
      "30.91357684135437\n",
      "30.88748347759247\n",
      "30.8677981197834\n",
      "30.85184234380722\n",
      "30.83478742837906\n",
      "30.82668587565422\n",
      "30.821056753396988\n",
      "30.814650267362595\n",
      "30.807825714349747\n",
      "30.804563492536545\n",
      "30.833574682474136\n",
      "30.7927143573761\n",
      "30.822667211294174\n",
      "30.78850546479225\n",
      "30.80947345495224\n",
      "30.807479232549667\n",
      "30.788697242736816\n",
      "30.817652493715286\n",
      "30.782933682203293\n",
      "30.787940472364426\n",
      "30.78425484895706\n",
      "30.835609525442123\n",
      "30.778607100248337\n",
      "30.774868339300156\n",
      "30.77417430281639\n",
      "30.81570142507553\n",
      "30.78007736802101\n",
      "30.77284526824951\n",
      "30.77166309952736\n",
      "30.77048233151436\n",
      "30.793953716754913\n",
      "30.772417902946472\n",
      "30.769355684518814\n",
      "30.786439150571823\n",
      "30.769646108150482\n",
      "30.783532321453094\n",
      "30.768202543258667\n",
      "30.76737153530121\n",
      "30.790520548820496\n"
     ]
    }
   ],
   "source": [
    "batch_size = 512\n",
    "input_size = 28*28\n",
    "hidden_size = 128\n",
    "latent_size = 10\n",
    "max_iters = 200\n",
    "lr = 1e-3\n",
    "\n",
    "train_loader = DataLoader(data_train, batch_size=batch_size, shuffle=True, drop_last=True)\n",
    "test_loader = DataLoader(data_test, batch_size=batch_size, shuffle=True, drop_last=True)\n",
    "model = VAE(input_size, hidden_size, latent_size).to(device)\n",
    "bce = nn.BCELoss()\n",
    "optim = torch.optim.Adam(model.parameters(), lr=lr)\n",
    "writer = SummaryWriter(log_dir = './runs')\n",
    "\n",
    "for iters in range(max_iters):\n",
    "    sum_loss = 0\n",
    "    for img,label in train_loader:\n",
    "        mu, covariance, res = model(img.to(device))\n",
    "        loss1 = -1/2 * (1 + covariance - mu**2 - torch.exp(covariance)).sum()\n",
    "        loss2 = bce(res, img.view(batch_size, -1).to(device))\n",
    "        loss = loss1 + loss2\n",
    "        sum_loss += loss.item()\n",
    "        optim.zero_grad()\n",
    "        loss.backward()\n",
    "        optim.step()\n",
    "    \n",
    "    writer.add_scalar('loss/train', sum_loss, iters)\n",
    "    print(sum_loss)\n",
    "    sum_loss = 0\n",
    "    with torch.no_grad():\n",
    "        for img,label in test_loader:\n",
    "            mu, covariance, res = model(img.to(device))\n",
    "            loss1 = -1/2 * (1 + covariance - mu**2 - torch.exp(covariance)).sum()\n",
    "            loss2 = bce(res, img.view(batch_size, -1).to(device))\n",
    "            loss = loss1 + loss2\n",
    "            sum_loss += loss.item()\n",
    "    \n",
    "    writer.add_scalar('loss/test', sum_loss, iters)\n",
    "    \n",
    "    if iters%20 == 0:\n",
    "        with torch.no_grad():\n",
    "            img = model.decodeur(mu=torch.randn(latent_size).to(device), covariance=torch.randn(latent_size).to(device))\n",
    "            writer.add_image('imageGénéré', img.view(1,28,28), iters)\n",
    "        \n",
    "    "
   ]
  },
  {
   "cell_type": "code",
   "execution_count": 120,
   "id": "living-congo",
   "metadata": {},
   "outputs": [
    {
     "name": "stdout",
     "output_type": "stream",
     "text": [
      "tensor([[-0.1059,  0.0229, -0.1617,  0.0562,  0.0357,  0.0489, -0.0448, -0.1077,\n",
      "          0.1297, -0.0115],\n",
      "        [-0.0162,  0.0474, -0.0532,  0.0369,  0.0137, -0.0117, -0.1122, -0.1225,\n",
      "          0.0955,  0.0116]], grad_fn=<SliceBackward>) torch.Size([2, 10])\n",
      "torch.Size([2, 784])\n"
     ]
    }
   ],
   "source": [
    "encodeur = Encodeur(28*28, 128, 10)\n",
    "decodeur = Decodeur(28*28, 128, 10)\n",
    "mu, co = encodeur(torch.cat([img0, img1], dim=0))\n",
    "res = decodeur(mu, co)\n",
    "print(mu, co.size())\n",
    "print(res.size())"
   ]
  },
  {
   "cell_type": "code",
   "execution_count": 113,
   "id": "egyptian-architect",
   "metadata": {},
   "outputs": [
    {
     "data": {
      "text/plain": [
       "tensor([[ 0.9880, -0.8637,  0.6546, -0.7828,  0.9836, -1.2632, -0.6844, -1.3263,\n",
       "          0.8261, -1.0049],\n",
       "        [ 0.6324, -0.7441,  0.1238, -0.7501, -0.7084, -0.7242, -1.5366, -1.6214,\n",
       "         -0.7658, -0.2188]])"
      ]
     },
     "execution_count": 113,
     "metadata": {},
     "output_type": "execute_result"
    }
   ],
   "source": [
    "z = Normal(mu, co)\n",
    "z.sample()"
   ]
  },
  {
   "cell_type": "code",
   "execution_count": 89,
   "id": "elementary-doctor",
   "metadata": {},
   "outputs": [
    {
     "name": "stdout",
     "output_type": "stream",
     "text": [
      "tensor([ 0.2410, -0.1575, -0.5553], requires_grad=True)\n",
      "tensor([1., 0., 1.])\n",
      "tensor(0.7354, grad_fn=<BinaryCrossEntropyBackward>)\n"
     ]
    }
   ],
   "source": [
    "m = nn.Sigmoid()\n",
    "loss = nn.BCELoss()\n",
    "input = torch.randn(3, requires_grad=True)\n",
    "target = torch.empty(3).random_(2)\n",
    "output = loss(m(input), target)\n",
    "output.backward()\n",
    "print(input)\n",
    "print(target)\n",
    "print(output)"
   ]
  }
 ],
 "metadata": {
  "kernelspec": {
   "display_name": "Python 3",
   "language": "python",
   "name": "python3"
  },
  "language_info": {
   "codemirror_mode": {
    "name": "ipython",
    "version": 3
   },
   "file_extension": ".py",
   "mimetype": "text/x-python",
   "name": "python",
   "nbconvert_exporter": "python",
   "pygments_lexer": "ipython3",
   "version": "3.9.7"
  }
 },
 "nbformat": 4,
 "nbformat_minor": 5
}
